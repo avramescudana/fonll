{
 "cells": [
  {
   "cell_type": "markdown",
   "metadata": {},
   "source": [
    "### Notebook to compare the webform and script FONLL results"
   ]
  },
  {
   "cell_type": "markdown",
   "metadata": {},
   "source": [
    "#### Import packages"
   ]
  },
  {
   "cell_type": "code",
   "execution_count": 1,
   "metadata": {},
   "outputs": [],
   "source": [
    "import os\n",
    "import numpy as np\n",
    "import pandas as pd\n",
    "import matplotlib.pyplot as plt\n",
    "from scipy import interpolate"
   ]
  },
  {
   "cell_type": "markdown",
   "metadata": {},
   "source": [
    "#### Read FONLL script results from file\n",
    "Each file contains the double differential cross section $\\mathrm{d}^2\\sigma/\\mathrm{d}p_T^2\\mathrm{d}y$ for each $p_T$ and $y$ value, along with the corresponding error. The format out the output is mentioned in the [`README`](https://cacciari.web.cern.ch/fonll/README) file."
   ]
  },
  {
   "cell_type": "code",
   "execution_count": 2,
   "metadata": {},
   "outputs": [],
   "source": [
    "current_path = os.getcwd()\n",
    "# folder_name = 'output_fonll_dsdpt_charm_5500_pdf_lha_cteq'\n",
    "# folder_name = 'output_fonll_dsdpt_charm_5500_pdf_lha_ct14'\n",
    "folder_name = 'output_fonll_dsdpt_charm_5500_pdf_lha_ct14_npdf_epps16'\n",
    "# folder_name = 'test_muf_1_output_fonll_dsdpt_charm_5500_pdf_lha_cteq'\n",
    "folder_path = current_path + '/' + folder_name"
   ]
  },
  {
   "cell_type": "code",
   "execution_count": 3,
   "metadata": {},
   "outputs": [],
   "source": [
    "pt = []\n",
    "y = []\n",
    "sigma = []\n",
    "err = []"
   ]
  },
  {
   "cell_type": "code",
   "execution_count": 4,
   "metadata": {},
   "outputs": [],
   "source": [
    "for filename in os.listdir(folder_path):\n",
    "    if filename.endswith('.out'):  \n",
    "        file_path = os.path.join(folder_path, filename)\n",
    "        with open(file_path, 'r') as file:\n",
    "            line = file.readline().strip()\n",
    "            values = line.split()\n",
    "            pt.append(float(values[0]))\n",
    "            y.append(float(values[1]))\n",
    "            sigma.append(float(values[2]))\n",
    "            err.append(float(values[3]))"
   ]
  },
  {
   "cell_type": "code",
   "execution_count": 5,
   "metadata": {},
   "outputs": [],
   "source": [
    "df = pd.DataFrame({\n",
    "    'pt': pt,\n",
    "    'y': y,\n",
    "    'sigma': sigma,\n",
    "    'err': err\n",
    "})"
   ]
  },
  {
   "cell_type": "markdown",
   "metadata": {},
   "source": [
    "Calculate $\\mathrm{d}\\sigma/\\mathrm{d}p_T=\\int \\mathrm{d}y\\, 2\\,p_T\\, \\mathrm{d}^2\\sigma/\\mathrm{d}p_T^2\\mathrm{d}y$"
   ]
  },
  {
   "cell_type": "code",
   "execution_count": 6,
   "metadata": {},
   "outputs": [],
   "source": [
    "df['pt_sigma'] = 2 * df['pt'] * df['sigma']\n",
    "df = df.sort_values(by=['pt', 'y'])\n",
    "df_int = df.groupby('pt').apply(lambda x: np.trapz(x['pt_sigma'], x['y']))\n",
    "df_int = df_int.reset_index(name='integral')"
   ]
  },
  {
   "cell_type": "code",
   "execution_count": 7,
   "metadata": {},
   "outputs": [],
   "source": [
    "def interpolate_integral(df_int):\n",
    "    interp_func = interpolate.interp1d(df_int['pt'], df_int['integral'], kind='linear')\n",
    "    new_pt_values = np.linspace(df_int['pt'].min(), df_int['pt'].max(), 100)  \n",
    "    new_integral_values = interp_func(new_pt_values)\n",
    "    interpolated_df_int = pd.DataFrame({'pt': new_pt_values, 'central': new_integral_values})\n",
    "    \n",
    "    return interpolated_df_int\n",
    "\n",
    "df_int_interp = interpolate_integral(df_int)"
   ]
  },
  {
   "cell_type": "code",
   "execution_count": 8,
   "metadata": {},
   "outputs": [],
   "source": [
    "# Save DataFrame to a CSV file\n",
    "df_int_interp.to_csv(folder_name + '.csv', index=False)"
   ]
  },
  {
   "cell_type": "markdown",
   "metadata": {},
   "source": [
    "---\n",
    "#### Read FONLL form results from file\n",
    "Generated using [`fonllform`](https://www.lpthe.jussieu.fr/~cacciari/fonll/fonllform.html)"
   ]
  },
  {
   "cell_type": "code",
   "execution_count": 9,
   "metadata": {},
   "outputs": [],
   "source": [
    "file_path = 'fonll_dsdpt_charm_5500_cteq.txt'\n",
    "\n",
    "df_form = pd.read_csv(\n",
    "    file_path,\n",
    "    comment='#',        \n",
    "    delim_whitespace=True,  \n",
    "    skiprows=13,        \n",
    "    usecols=[0, 1],     \n",
    "    names=['pt', 'central']  \n",
    ")"
   ]
  },
  {
   "cell_type": "markdown",
   "metadata": {},
   "source": [
    "---\n",
    "Plot a comparison"
   ]
  },
  {
   "cell_type": "code",
   "execution_count": 14,
   "metadata": {},
   "outputs": [
    {
     "data": {
      "image/png": "[encoded data removed]",
      "text/plain": [
       "<Figure size 504x432 with 1 Axes>"
      ]
     },
     "metadata": {
      "needs_background": "light"
     },
     "output_type": "display_data"
    }
   ],
   "source": [
    "plt.figure(figsize=(7, 6))\n",
    "plt.plot(df_form['pt'], df_form['central'], label='Form')\n",
    "plt.plot(df_int_interp['pt'], df_int_interp['central'], label='Script')\n",
    "\n",
    "plt.xlabel(r'$p_T$', fontsize=18)\n",
    "plt.ylabel(r'$\\mathrm{d}\\sigma/\\mathrm{d}p_T$', fontsize=18)\n",
    "plt.yscale(\"log\")\n",
    "plt.xlim(0,20)\n",
    "\n",
    "plt.legend(fontsize=14)\n",
    "plt.show()"
   ]
  }
 ],
 "metadata": {
  "kernelspec": {
   "display_name": "curraun",
   "language": "python",
   "name": "python3"
  },
  "language_info": {
   "codemirror_mode": {
    "name": "ipython",
    "version": 3
   },
   "file_extension": ".py",
   "mimetype": "text/x-python",
   "name": "python",
   "nbconvert_exporter": "python",
   "pygments_lexer": "ipython3",
   "version": "3.6.10"
  }
 },
 "nbformat": 4,
 "nbformat_minor": 2
}
